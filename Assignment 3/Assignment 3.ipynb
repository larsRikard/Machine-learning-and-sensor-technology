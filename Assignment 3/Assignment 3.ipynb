{
 "cells": [
  {
   "cell_type": "markdown",
   "metadata": {},
   "source": [
    "Imports and helper functions"
   ]
  },
  {
   "cell_type": "code",
   "execution_count": 41,
   "metadata": {},
   "outputs": [],
   "source": [
    "#Code source: https://github.com/ageron/handson-ml2/blob/master/02_end_to_end_machine_learning_project.ipynb\n",
    "\n",
    "# Python ≥3.5 is required\n",
    "import sys\n",
    "assert sys.version_info >= (3, 5)\n",
    "\n",
    "# Scikit-Learn ≥0.20 is required\n",
    "import sklearn\n",
    "assert sklearn.__version__ >= \"0.20\"\n",
    "\n",
    "# Common imports\n",
    "import numpy as np\n",
    "import os\n",
    "\n",
    "# To plot pretty figures\n",
    "%matplotlib inline\n",
    "import matplotlib as mpl\n",
    "import matplotlib.pyplot as plt\n",
    "mpl.rc('axes', labelsize=14)\n",
    "mpl.rc('xtick', labelsize=12)\n",
    "mpl.rc('ytick', labelsize=12)\n",
    "\n",
    "# Where to save the figures\n",
    "PROJECT_ROOT_DIR = \".\"\n",
    "IMAGES_PATH = os.path.join(PROJECT_ROOT_DIR, \"Report\", \"fig\")\n",
    "os.makedirs(IMAGES_PATH, exist_ok=True)\n",
    "\n",
    "def save_fig(fig_id, tight_layout=True, fig_extension=\"png\", resolution=300):\n",
    "    path = os.path.join(IMAGES_PATH, fig_id + \".\" + fig_extension)\n",
    "    print(\"Saving figure\", fig_id)\n",
    "    if tight_layout:\n",
    "        plt.tight_layout()\n",
    "    plt.savefig(path, format=fig_extension, dpi=resolution)"
   ]
  },
  {
   "cell_type": "markdown",
   "metadata": {},
   "source": [
    "Regression MLP imports"
   ]
  },
  {
   "cell_type": "code",
   "execution_count": 42,
   "metadata": {},
   "outputs": [],
   "source": [
    "from sklearn.metrics import mean_squared_error\n",
    "from sklearn.model_selection import train_test_split\n",
    "from sklearn.neural_network import MLPRegressor\n",
    "from sklearn.pipeline import make_pipeline\n",
    "from sklearn.preprocessing import StandardScaler\n",
    "from sklearn.metrics import r2_score, max_error"
   ]
  },
  {
   "cell_type": "markdown",
   "metadata": {},
   "source": [
    "RNN imports"
   ]
  },
  {
   "cell_type": "code",
   "execution_count": 43,
   "metadata": {},
   "outputs": [],
   "source": [
    "\"\"\" import tensorflow as tf\n",
    "from tensorflow import keras\n",
    "from tensorflow.keras import layers \"\"\"\n",
    "\n",
    "import torch\n",
    "from torch import nn\n",
    "from torch.utils.data import Dataset, DataLoader\n",
    "from tqdm import tqdm"
   ]
  },
  {
   "cell_type": "markdown",
   "metadata": {},
   "source": [
    "Function for making models and generating plots, stolen from previous solution"
   ]
  },
  {
   "cell_type": "code",
   "execution_count": 44,
   "metadata": {},
   "outputs": [],
   "source": [
    "def test_model(X_train, y_train, X_test, y_test, model):\n",
    " \n",
    "    y_train_predicted = model.predict(X_train)\n",
    "    y_test_predicted = model.predict(X_test)\n",
    "    \n",
    "    print('--------------------TRAIN SET-------------------------')\n",
    "    print('r2_score = ','%.2f' % r2_score(y_train,y_train_predicted), '(1.0 means perfect fit)')\n",
    "    print('max_error = ','%.2f' % max_error(y_train,y_train_predicted))\n",
    "    print('root_mean_squared_error = ','%.2f' % mean_squared_error(y_train,y_train_predicted, squared=False))\n",
    "    print('--------------------TEST SET-------------------------')\n",
    "    print('r2_score = ','%.2f' % r2_score(y_test,y_test_predicted), '(1.0 means perfect fit)')\n",
    "    print('max_error = ','%.2f' % max_error(y_test,y_test_predicted))\n",
    "    print('root_mean_squared_error = ','%.2f' % mean_squared_error(y_test,y_test_predicted, squared=False))\n",
    "    print(y_train.index[:100])\n",
    "    \n",
    "    return r2_score(y_train,y_train_predicted), r2_score(y_test,y_test_predicted)"
   ]
  },
  {
   "cell_type": "markdown",
   "metadata": {},
   "source": [
    "Import the training set and the data set"
   ]
  },
  {
   "cell_type": "code",
   "execution_count": 45,
   "metadata": {},
   "outputs": [
    {
     "data": {
      "text/plain": [
       "' fan_prepared_test = num_pipeline.fit_transform(fd_001_test)\\nfan_labels_test = fd_001_test[\"RUL\"].copy() '"
      ]
     },
     "execution_count": 45,
     "metadata": {},
     "output_type": "execute_result"
    }
   ],
   "source": [
    "import pandas as pd\n",
    "useless_features = ['engine','RUL', 'cycle', 'setting 3', 'sensor 1', 'sensor 5', 'sensor 6', 'sensor 10','sensor 14', 'sensor 16', 'sensor 18', 'sensor 19']\n",
    "\n",
    "fd_001_train  = pd.read_csv('train_FD001.csv')\n",
    "y_train_full = fd_001_train['RUL']\n",
    "X_train_full = fd_001_train.drop(columns=useless_features)\n",
    "\n",
    "fd_001_test = pd.read_csv('test_FD001.csv')\n",
    "y_test = fd_001_test['RUL']\n",
    "X_test = fd_001_test.drop(columns=useless_features)\n",
    "\n",
    "\"\"\" X_mlp_train_full = X_train.copy()\n",
    "y_mlp_train_full = y_train.copy()\n",
    "X_mlp_test = X_train.copy()\n",
    "y_mlp_test = y_train.copy() \"\"\"\n",
    "\n",
    "\"\"\" X_mlp_train, X_mlp_valid, y_mlp_train, y_mlp_valid = train_test_split(\n",
    "    X_mlp_train_full, y_mlp_train_full, random_state=42) \"\"\"\n",
    "\n",
    "\"\"\" fan_prepared_test = num_pipeline.fit_transform(fd_001_test)\n",
    "fan_labels_test = fd_001_test[\"RUL\"].copy() \"\"\""
   ]
  },
  {
   "cell_type": "code",
   "execution_count": 33,
   "metadata": {},
   "outputs": [
    {
     "data": {
      "text/html": [
       "<div>\n",
       "<style scoped>\n",
       "    .dataframe tbody tr th:only-of-type {\n",
       "        vertical-align: middle;\n",
       "    }\n",
       "\n",
       "    .dataframe tbody tr th {\n",
       "        vertical-align: top;\n",
       "    }\n",
       "\n",
       "    .dataframe thead th {\n",
       "        text-align: right;\n",
       "    }\n",
       "</style>\n",
       "<table border=\"1\" class=\"dataframe\">\n",
       "  <thead>\n",
       "    <tr style=\"text-align: right;\">\n",
       "      <th></th>\n",
       "      <th>setting 1</th>\n",
       "      <th>setting 2</th>\n",
       "      <th>sensor 2</th>\n",
       "      <th>sensor 3</th>\n",
       "      <th>sensor 4</th>\n",
       "      <th>sensor 7</th>\n",
       "      <th>sensor 8</th>\n",
       "      <th>sensor 9</th>\n",
       "      <th>sensor 11</th>\n",
       "      <th>sensor 12</th>\n",
       "      <th>sensor 13</th>\n",
       "      <th>sensor 15</th>\n",
       "      <th>sensor 17</th>\n",
       "      <th>sensor 20</th>\n",
       "      <th>sensor 21</th>\n",
       "    </tr>\n",
       "  </thead>\n",
       "  <tbody>\n",
       "    <tr>\n",
       "      <th>count</th>\n",
       "      <td>20631.000000</td>\n",
       "      <td>20631.000000</td>\n",
       "      <td>20631.000000</td>\n",
       "      <td>20631.000000</td>\n",
       "      <td>20631.000000</td>\n",
       "      <td>20631.000000</td>\n",
       "      <td>20631.000000</td>\n",
       "      <td>20631.000000</td>\n",
       "      <td>20631.000000</td>\n",
       "      <td>20631.000000</td>\n",
       "      <td>20631.000000</td>\n",
       "      <td>20631.000000</td>\n",
       "      <td>20631.000000</td>\n",
       "      <td>20631.000000</td>\n",
       "      <td>20631.000000</td>\n",
       "    </tr>\n",
       "    <tr>\n",
       "      <th>mean</th>\n",
       "      <td>-0.000009</td>\n",
       "      <td>0.000002</td>\n",
       "      <td>642.680934</td>\n",
       "      <td>1590.523119</td>\n",
       "      <td>1408.933782</td>\n",
       "      <td>553.367711</td>\n",
       "      <td>2388.096652</td>\n",
       "      <td>9065.242941</td>\n",
       "      <td>47.541168</td>\n",
       "      <td>521.413470</td>\n",
       "      <td>2388.096152</td>\n",
       "      <td>8.442146</td>\n",
       "      <td>393.210654</td>\n",
       "      <td>38.816271</td>\n",
       "      <td>23.289705</td>\n",
       "    </tr>\n",
       "    <tr>\n",
       "      <th>std</th>\n",
       "      <td>0.002187</td>\n",
       "      <td>0.000293</td>\n",
       "      <td>0.500053</td>\n",
       "      <td>6.131150</td>\n",
       "      <td>9.000605</td>\n",
       "      <td>0.885092</td>\n",
       "      <td>0.070985</td>\n",
       "      <td>22.082880</td>\n",
       "      <td>0.267087</td>\n",
       "      <td>0.737553</td>\n",
       "      <td>0.071919</td>\n",
       "      <td>0.037505</td>\n",
       "      <td>1.548763</td>\n",
       "      <td>0.180746</td>\n",
       "      <td>0.108251</td>\n",
       "    </tr>\n",
       "    <tr>\n",
       "      <th>min</th>\n",
       "      <td>-0.008700</td>\n",
       "      <td>-0.000600</td>\n",
       "      <td>641.210000</td>\n",
       "      <td>1571.040000</td>\n",
       "      <td>1382.250000</td>\n",
       "      <td>549.850000</td>\n",
       "      <td>2387.900000</td>\n",
       "      <td>9021.730000</td>\n",
       "      <td>46.850000</td>\n",
       "      <td>518.690000</td>\n",
       "      <td>2387.880000</td>\n",
       "      <td>8.324900</td>\n",
       "      <td>388.000000</td>\n",
       "      <td>38.140000</td>\n",
       "      <td>22.894200</td>\n",
       "    </tr>\n",
       "    <tr>\n",
       "      <th>25%</th>\n",
       "      <td>-0.001500</td>\n",
       "      <td>-0.000200</td>\n",
       "      <td>642.325000</td>\n",
       "      <td>1586.260000</td>\n",
       "      <td>1402.360000</td>\n",
       "      <td>552.810000</td>\n",
       "      <td>2388.050000</td>\n",
       "      <td>9053.100000</td>\n",
       "      <td>47.350000</td>\n",
       "      <td>520.960000</td>\n",
       "      <td>2388.040000</td>\n",
       "      <td>8.414900</td>\n",
       "      <td>392.000000</td>\n",
       "      <td>38.700000</td>\n",
       "      <td>23.221800</td>\n",
       "    </tr>\n",
       "    <tr>\n",
       "      <th>50%</th>\n",
       "      <td>0.000000</td>\n",
       "      <td>0.000000</td>\n",
       "      <td>642.640000</td>\n",
       "      <td>1590.100000</td>\n",
       "      <td>1408.040000</td>\n",
       "      <td>553.440000</td>\n",
       "      <td>2388.090000</td>\n",
       "      <td>9060.660000</td>\n",
       "      <td>47.510000</td>\n",
       "      <td>521.480000</td>\n",
       "      <td>2388.090000</td>\n",
       "      <td>8.438900</td>\n",
       "      <td>393.000000</td>\n",
       "      <td>38.830000</td>\n",
       "      <td>23.297900</td>\n",
       "    </tr>\n",
       "    <tr>\n",
       "      <th>75%</th>\n",
       "      <td>0.001500</td>\n",
       "      <td>0.000300</td>\n",
       "      <td>643.000000</td>\n",
       "      <td>1594.380000</td>\n",
       "      <td>1414.555000</td>\n",
       "      <td>554.010000</td>\n",
       "      <td>2388.140000</td>\n",
       "      <td>9069.420000</td>\n",
       "      <td>47.700000</td>\n",
       "      <td>521.950000</td>\n",
       "      <td>2388.140000</td>\n",
       "      <td>8.465600</td>\n",
       "      <td>394.000000</td>\n",
       "      <td>38.950000</td>\n",
       "      <td>23.366800</td>\n",
       "    </tr>\n",
       "    <tr>\n",
       "      <th>max</th>\n",
       "      <td>0.008700</td>\n",
       "      <td>0.000600</td>\n",
       "      <td>644.530000</td>\n",
       "      <td>1616.910000</td>\n",
       "      <td>1441.490000</td>\n",
       "      <td>556.060000</td>\n",
       "      <td>2388.560000</td>\n",
       "      <td>9244.590000</td>\n",
       "      <td>48.530000</td>\n",
       "      <td>523.380000</td>\n",
       "      <td>2388.560000</td>\n",
       "      <td>8.584800</td>\n",
       "      <td>400.000000</td>\n",
       "      <td>39.430000</td>\n",
       "      <td>23.618400</td>\n",
       "    </tr>\n",
       "  </tbody>\n",
       "</table>\n",
       "</div>"
      ],
      "text/plain": [
       "          setting 1     setting 2      sensor 2      sensor 3      sensor 4  \\\n",
       "count  20631.000000  20631.000000  20631.000000  20631.000000  20631.000000   \n",
       "mean      -0.000009      0.000002    642.680934   1590.523119   1408.933782   \n",
       "std        0.002187      0.000293      0.500053      6.131150      9.000605   \n",
       "min       -0.008700     -0.000600    641.210000   1571.040000   1382.250000   \n",
       "25%       -0.001500     -0.000200    642.325000   1586.260000   1402.360000   \n",
       "50%        0.000000      0.000000    642.640000   1590.100000   1408.040000   \n",
       "75%        0.001500      0.000300    643.000000   1594.380000   1414.555000   \n",
       "max        0.008700      0.000600    644.530000   1616.910000   1441.490000   \n",
       "\n",
       "           sensor 7      sensor 8      sensor 9     sensor 11     sensor 12  \\\n",
       "count  20631.000000  20631.000000  20631.000000  20631.000000  20631.000000   \n",
       "mean     553.367711   2388.096652   9065.242941     47.541168    521.413470   \n",
       "std        0.885092      0.070985     22.082880      0.267087      0.737553   \n",
       "min      549.850000   2387.900000   9021.730000     46.850000    518.690000   \n",
       "25%      552.810000   2388.050000   9053.100000     47.350000    520.960000   \n",
       "50%      553.440000   2388.090000   9060.660000     47.510000    521.480000   \n",
       "75%      554.010000   2388.140000   9069.420000     47.700000    521.950000   \n",
       "max      556.060000   2388.560000   9244.590000     48.530000    523.380000   \n",
       "\n",
       "          sensor 13     sensor 15     sensor 17     sensor 20     sensor 21  \n",
       "count  20631.000000  20631.000000  20631.000000  20631.000000  20631.000000  \n",
       "mean    2388.096152      8.442146    393.210654     38.816271     23.289705  \n",
       "std        0.071919      0.037505      1.548763      0.180746      0.108251  \n",
       "min     2387.880000      8.324900    388.000000     38.140000     22.894200  \n",
       "25%     2388.040000      8.414900    392.000000     38.700000     23.221800  \n",
       "50%     2388.090000      8.438900    393.000000     38.830000     23.297900  \n",
       "75%     2388.140000      8.465600    394.000000     38.950000     23.366800  \n",
       "max     2388.560000      8.584800    400.000000     39.430000     23.618400  "
      ]
     },
     "execution_count": 33,
     "metadata": {},
     "output_type": "execute_result"
    }
   ],
   "source": [
    "X_train_full.describe()"
   ]
  },
  {
   "cell_type": "markdown",
   "metadata": {},
   "source": [
    "<h2>Multi-layer Perceptron</h2>"
   ]
  },
  {
   "cell_type": "markdown",
   "metadata": {},
   "source": [
    "3 hidden layers, Adam optimizer"
   ]
  },
  {
   "cell_type": "code",
   "execution_count": 30,
   "metadata": {},
   "outputs": [],
   "source": [
    "mlp_reg = MLPRegressor(hidden_layer_sizes=[50, 50, 50], random_state=42)\n",
    "pipeline_mlp_1 = make_pipeline(StandardScaler(), mlp_reg)\n",
    "pipeline_mlp_1.fit(X_train_full, y_train_full)\n",
    "y_pred = pipeline_mlp_1.predict(X_test)\n",
    "rmse = mean_squared_error(y_test, y_pred, squared=False)"
   ]
  },
  {
   "cell_type": "code",
   "execution_count": 31,
   "metadata": {},
   "outputs": [
    {
     "data": {
      "text/plain": [
       "46.594817064172354"
      ]
     },
     "execution_count": 31,
     "metadata": {},
     "output_type": "execute_result"
    }
   ],
   "source": [
    "rmse"
   ]
  },
  {
   "cell_type": "markdown",
   "metadata": {},
   "source": [
    "3 hidden layers, lbfgs optimizer"
   ]
  },
  {
   "cell_type": "code",
   "execution_count": 32,
   "metadata": {},
   "outputs": [
    {
     "name": "stderr",
     "output_type": "stream",
     "text": [
      "C:\\Users\\larsr\\AppData\\Local\\Packages\\PythonSoftwareFoundation.Python.3.10_qbz5n2kfra8p0\\LocalCache\\local-packages\\Python310\\site-packages\\sklearn\\neural_network\\_multilayer_perceptron.py:559: ConvergenceWarning: lbfgs failed to converge (status=1):\n",
      "STOP: TOTAL NO. of ITERATIONS REACHED LIMIT.\n",
      "\n",
      "Increase the number of iterations (max_iter) or scale the data as shown in:\n",
      "    https://scikit-learn.org/stable/modules/preprocessing.html\n",
      "  self.n_iter_ = _check_optimize_result(\"lbfgs\", opt_res, self.max_iter)\n"
     ]
    }
   ],
   "source": [
    "mlp_reg = MLPRegressor(hidden_layer_sizes=[50, 50, 50], random_state=42, solver='lbfgs')\n",
    "pipeline_mlp_2 = make_pipeline(StandardScaler(), mlp_reg)\n",
    "pipeline_mlp_2.fit(X_train_full, y_train_full)\n",
    "y_pred = pipeline_mlp_2.predict(X_test)\n",
    "rmse = mean_squared_error(y_test, y_pred, squared=False)"
   ]
  },
  {
   "cell_type": "code",
   "execution_count": 33,
   "metadata": {},
   "outputs": [
    {
     "data": {
      "text/plain": [
       "47.553188000035384"
      ]
     },
     "execution_count": 33,
     "metadata": {},
     "output_type": "execute_result"
    }
   ],
   "source": [
    "rmse"
   ]
  },
  {
   "cell_type": "markdown",
   "metadata": {},
   "source": [
    "Adam optimizer with lower learning rate"
   ]
  },
  {
   "cell_type": "code",
   "execution_count": 34,
   "metadata": {},
   "outputs": [],
   "source": [
    "mlp_reg = MLPRegressor(hidden_layer_sizes=[50, 50, 50], random_state=42, learning_rate_init=0.0005, max_iter=600)\n",
    "pipeline_mlp_3 = make_pipeline(StandardScaler(), mlp_reg)\n",
    "pipeline_mlp_3.fit(X_train_full, y_train_full)\n",
    "y_pred = pipeline_mlp_3.predict(X_test)\n",
    "rmse = mean_squared_error(y_test, y_pred, squared=False)"
   ]
  },
  {
   "cell_type": "code",
   "execution_count": 35,
   "metadata": {},
   "outputs": [
    {
     "name": "stdout",
     "output_type": "stream",
     "text": [
      "--------------------TRAIN SET-------------------------\n",
      "r2_score =  0.65 (1.0 means perfect fit)\n",
      "max_error =  223.69\n",
      "root_mean_squared_error =  40.63\n",
      "--------------------TEST SET-------------------------\n",
      "r2_score =  0.38 (1.0 means perfect fit)\n",
      "max_error =  218.75\n",
      "root_mean_squared_error =  46.59\n",
      "RangeIndex(start=0, stop=100, step=1)\n",
      "--------------------TRAIN SET-------------------------\n",
      "r2_score =  0.67 (1.0 means perfect fit)\n",
      "max_error =  212.16\n",
      "root_mean_squared_error =  39.70\n",
      "--------------------TEST SET-------------------------\n",
      "r2_score =  0.35 (1.0 means perfect fit)\n",
      "max_error =  228.70\n",
      "root_mean_squared_error =  47.55\n",
      "RangeIndex(start=0, stop=100, step=1)\n",
      "--------------------TRAIN SET-------------------------\n",
      "r2_score =  0.66 (1.0 means perfect fit)\n",
      "max_error =  217.51\n",
      "root_mean_squared_error =  40.05\n",
      "--------------------TEST SET-------------------------\n",
      "r2_score =  0.38 (1.0 means perfect fit)\n",
      "max_error =  214.91\n",
      "root_mean_squared_error =  46.47\n",
      "RangeIndex(start=0, stop=100, step=1)\n"
     ]
    },
    {
     "data": {
      "text/plain": [
       "(0.6619856937750026, 0.379175645112903)"
      ]
     },
     "execution_count": 35,
     "metadata": {},
     "output_type": "execute_result"
    }
   ],
   "source": [
    "test_model(X_train_full,y_train_full,X_test,y_test, pipeline_mlp_1)\n",
    "test_model(X_train_full,y_train_full,X_test,y_test, pipeline_mlp_2)\n",
    "test_model(X_train_full,y_train_full,X_test,y_test, pipeline_mlp_3)"
   ]
  },
  {
   "cell_type": "markdown",
   "metadata": {},
   "source": [
    "<h2>Recurrent Neural Network</h2>"
   ]
  },
  {
   "cell_type": "markdown",
   "metadata": {},
   "source": [
    "Let's try to load the dataset with torch"
   ]
  },
  {
   "cell_type": "code",
   "execution_count": 124,
   "metadata": {},
   "outputs": [],
   "source": [
    "class CustomDataset(Dataset):\n",
    "    def __init__(self, data, targets, scale_data=True):\n",
    "        if scale_data:\n",
    "            data_standard = StandardScaler().fit_transform(data)\n",
    "        self.X = torch.from_numpy(data_standard)\n",
    "        self.y = torch.tensor(targets.values, dtype=torch.float)\n",
    "    def __len__(self):\n",
    "        return self.X.shape[0]\n",
    "    def __getitem__(self, idx):\n",
    "        current_data = self.X[idx, :]\n",
    "        current_target = self.y[idx]\n",
    "        sample = current_data,  current_target\n",
    "        return sample"
   ]
  },
  {
   "cell_type": "code",
   "execution_count": 125,
   "metadata": {},
   "outputs": [],
   "source": [
    "train_dataset = CustomDataset(data=X_train_full, targets=y_train_full)\n",
    "test_dataset = CustomDataset(data=X_test, targets=y_test)"
   ]
  },
  {
   "cell_type": "code",
   "execution_count": 126,
   "metadata": {},
   "outputs": [
    {
     "data": {
      "text/plain": [
       "(tensor([-0.3160, -1.3730, -1.7217, -0.1343, -0.9259,  1.1211, -0.5163, -0.8628,\n",
       "         -0.2665,  0.3343, -1.0589, -0.6038, -0.7817,  1.3485,  1.1944],\n",
       "        dtype=torch.float64),\n",
       " tensor(191.))"
      ]
     },
     "execution_count": 126,
     "metadata": {},
     "output_type": "execute_result"
    }
   ],
   "source": [
    "train_dataset[0]"
   ]
  },
  {
   "cell_type": "code",
   "execution_count": 127,
   "metadata": {},
   "outputs": [],
   "source": [
    "train_dataloader = DataLoader(train_dataset)\n",
    "test_dataloader = DataLoader(test_dataset)"
   ]
  },
  {
   "cell_type": "markdown",
   "metadata": {},
   "source": [
    "Multi layer perceptron with Torch"
   ]
  },
  {
   "cell_type": "code",
   "execution_count": 135,
   "metadata": {},
   "outputs": [],
   "source": [
    "# Define model\n",
    "class MLP(nn.Module):\n",
    "  '''\n",
    "    Multilayer Perceptron for regression.\n",
    "  '''\n",
    "  def __init__(self):\n",
    "    super().__init__()\n",
    "    self.layers = nn.Sequential(\n",
    "      nn.Linear(15, 64),\n",
    "      nn.ReLU(),\n",
    "      nn.Linear(64, 32),\n",
    "      nn.ReLU(),\n",
    "      nn.Linear(32, 1)\n",
    "    )\n",
    "\n",
    "\n",
    "  def forward(self, x):\n",
    "    '''\n",
    "      Forward pass\n",
    "    '''\n",
    "    return self.layers(x)"
   ]
  },
  {
   "cell_type": "code",
   "execution_count": 136,
   "metadata": {},
   "outputs": [],
   "source": [
    "# Initialize the MLP\n",
    "mlp = MLP()\n",
    "\n",
    "# Define the loss function and optimizer\n",
    "loss_function = nn.L1Loss()\n",
    "optimizer = torch.optim.Adam(mlp.parameters(), lr=1e-4)"
   ]
  },
  {
   "cell_type": "code",
   "execution_count": 162,
   "metadata": {},
   "outputs": [],
   "source": [
    "def train (data):\n",
    "    # Get and prepare inputs\n",
    "    inputs, targets = data\n",
    "    inputs, targets = inputs.float(), targets.float()\n",
    "    targets = targets.reshape((targets.shape[0], 1))\n",
    "    \n",
    "    # Zero the gradients\n",
    "    optimizer.zero_grad()\n",
    "    \n",
    "    # Perform forward pass\n",
    "    outputs = mlp(inputs)\n",
    "    \n",
    "    # Compute loss\n",
    "    loss = loss_function(outputs, targets)\n",
    "    \n",
    "    # Perform backward pass\n",
    "    loss.backward()\n",
    "    \n",
    "    # Perform optimization\n",
    "    optimizer.step()\n",
    "    \n",
    "    return loss.item()\n",
    "    \n"
   ]
  },
  {
   "cell_type": "code",
   "execution_count": 166,
   "metadata": {},
   "outputs": [],
   "source": [
    "def test (data):\n",
    "     # Get and prepare inputs\n",
    "    inputs, targets = data\n",
    "    inputs, targets = inputs.float(), targets.float()\n",
    "    targets = targets.reshape((targets.shape[0], 1))\n",
    "    \n",
    "    # Perform forward pass\n",
    "    outputs = mlp(inputs)\n",
    "    \n",
    "    # Compute loss\n",
    "    loss = loss_function(outputs, targets)\n",
    "    \n",
    "    return loss.item()\n",
    "    "
   ]
  },
  {
   "cell_type": "code",
   "execution_count": 168,
   "metadata": {},
   "outputs": [
    {
     "name": "stdout",
     "output_type": "stream",
     "text": [
      "Starting epoch 1\n",
      "Loss after mini-batch     1: 0.063\n",
      "Loss after mini-batch  1001: 60.612\n",
      "Loss after mini-batch  2001: 43.916\n",
      "Loss after mini-batch  3001: 37.899\n",
      "Loss after mini-batch  4001: 69.807\n",
      "Loss after mini-batch  5001: 48.674\n",
      "Loss after mini-batch  6001: 43.942\n",
      "Loss after mini-batch  7001: 46.107\n",
      "Loss after mini-batch  8001: 48.070\n",
      "Loss after mini-batch  9001: 49.744\n",
      "Loss after mini-batch 10001: 44.171\n",
      "Loss after mini-batch 11001: 45.087\n",
      "Loss after mini-batch 12001: 69.970\n",
      "Loss after mini-batch 13001: 83.329\n",
      "Loss after mini-batch 14001: 123.782\n",
      "Loss after mini-batch 15001: 52.020\n",
      "Loss after mini-batch 16001: 46.966\n",
      "Loss after mini-batch 17001: 73.061\n",
      "Loss after mini-batch 18001: 64.479\n",
      "Loss after mini-batch 19001: 88.230\n",
      "Loss after mini-batch 20001: 95.625\n",
      "Test loss after mini-batch     1: 0.005\n",
      "Test loss after mini-batch  1001: 122.333\n",
      "Test loss after mini-batch  2001: 131.530\n",
      "Test loss after mini-batch  3001: 64.492\n",
      "Test loss after mini-batch  4001: 115.610\n",
      "Test loss after mini-batch  5001: 101.831\n",
      "Test loss after mini-batch  6001: 136.603\n",
      "Test loss after mini-batch  7001: 84.533\n",
      "Test loss after mini-batch  8001: 96.861\n",
      "Test loss after mini-batch  9001: 77.062\n",
      "Test loss after mini-batch 10001: 102.438\n",
      "Test loss after mini-batch 11001: 98.807\n",
      "Test loss after mini-batch 12001: 134.943\n",
      "Test loss after mini-batch 13001: 152.204\n",
      "Starting epoch 2\n",
      "Loss after mini-batch     1: 0.063\n",
      "Loss after mini-batch  1001: 60.612\n",
      "Loss after mini-batch  2001: 43.916\n",
      "Loss after mini-batch  3001: 37.899\n",
      "Loss after mini-batch  4001: 69.807\n",
      "Loss after mini-batch  5001: 48.674\n",
      "Loss after mini-batch  6001: 43.942\n",
      "Loss after mini-batch  7001: 46.107\n",
      "Loss after mini-batch  8001: 48.070\n",
      "Loss after mini-batch  9001: 49.744\n",
      "Loss after mini-batch 10001: 44.171\n",
      "Loss after mini-batch 11001: 45.087\n",
      "Loss after mini-batch 12001: 69.970\n",
      "Loss after mini-batch 13001: 83.329\n",
      "Loss after mini-batch 14001: 123.782\n",
      "Loss after mini-batch 15001: 52.020\n",
      "Loss after mini-batch 16001: 46.966\n",
      "Loss after mini-batch 17001: 73.061\n",
      "Loss after mini-batch 18001: 64.479\n",
      "Loss after mini-batch 19001: 88.230\n",
      "Loss after mini-batch 20001: 95.625\n",
      "Test loss after mini-batch     1: 0.005\n",
      "Test loss after mini-batch  1001: 122.333\n",
      "Test loss after mini-batch  2001: 131.530\n",
      "Test loss after mini-batch  3001: 64.492\n",
      "Test loss after mini-batch  4001: 115.610\n",
      "Test loss after mini-batch  5001: 101.831\n",
      "Test loss after mini-batch  6001: 136.603\n",
      "Test loss after mini-batch  7001: 84.533\n",
      "Test loss after mini-batch  8001: 96.861\n",
      "Test loss after mini-batch  9001: 77.062\n",
      "Test loss after mini-batch 10001: 102.438\n",
      "Test loss after mini-batch 11001: 98.807\n",
      "Test loss after mini-batch 12001: 134.943\n",
      "Test loss after mini-batch 13001: 152.204\n",
      "Starting epoch 3\n",
      "Loss after mini-batch     1: 0.063\n",
      "Loss after mini-batch  1001: 60.612\n",
      "Loss after mini-batch  2001: 43.916\n",
      "Loss after mini-batch  3001: 37.899\n",
      "Loss after mini-batch  4001: 69.807\n",
      "Loss after mini-batch  5001: 48.674\n",
      "Loss after mini-batch  6001: 43.942\n",
      "Loss after mini-batch  7001: 46.107\n",
      "Loss after mini-batch  8001: 48.070\n",
      "Loss after mini-batch  9001: 49.744\n",
      "Loss after mini-batch 10001: 44.171\n",
      "Loss after mini-batch 11001: 45.087\n",
      "Loss after mini-batch 12001: 69.970\n",
      "Loss after mini-batch 13001: 83.329\n",
      "Loss after mini-batch 14001: 123.782\n",
      "Loss after mini-batch 15001: 52.020\n",
      "Loss after mini-batch 16001: 46.966\n",
      "Loss after mini-batch 17001: 73.061\n",
      "Loss after mini-batch 18001: 64.479\n",
      "Loss after mini-batch 19001: 88.230\n",
      "Loss after mini-batch 20001: 95.625\n",
      "Test loss after mini-batch     1: 0.005\n",
      "Test loss after mini-batch  1001: 122.333\n",
      "Test loss after mini-batch  2001: 131.530\n",
      "Test loss after mini-batch  3001: 64.492\n",
      "Test loss after mini-batch  4001: 115.610\n",
      "Test loss after mini-batch  5001: 101.831\n",
      "Test loss after mini-batch  6001: 136.603\n",
      "Test loss after mini-batch  7001: 84.533\n",
      "Test loss after mini-batch  8001: 96.861\n",
      "Test loss after mini-batch  9001: 77.062\n",
      "Test loss after mini-batch 10001: 102.438\n",
      "Test loss after mini-batch 11001: 98.807\n",
      "Test loss after mini-batch 12001: 134.943\n",
      "Test loss after mini-batch 13001: 152.204\n",
      "Starting epoch 4\n",
      "Loss after mini-batch     1: 0.063\n",
      "Loss after mini-batch  1001: 60.612\n",
      "Loss after mini-batch  2001: 43.916\n",
      "Loss after mini-batch  3001: 37.899\n",
      "Loss after mini-batch  4001: 69.807\n",
      "Loss after mini-batch  5001: 48.674\n",
      "Loss after mini-batch  6001: 43.942\n",
      "Loss after mini-batch  7001: 46.107\n",
      "Loss after mini-batch  8001: 48.070\n",
      "Loss after mini-batch  9001: 49.744\n",
      "Loss after mini-batch 10001: 44.171\n",
      "Loss after mini-batch 11001: 45.087\n",
      "Loss after mini-batch 12001: 69.970\n",
      "Loss after mini-batch 13001: 83.329\n",
      "Loss after mini-batch 14001: 123.782\n",
      "Loss after mini-batch 15001: 52.020\n",
      "Loss after mini-batch 16001: 46.966\n",
      "Loss after mini-batch 17001: 73.061\n",
      "Loss after mini-batch 18001: 64.479\n",
      "Loss after mini-batch 19001: 88.230\n",
      "Loss after mini-batch 20001: 95.625\n",
      "Test loss after mini-batch     1: 0.005\n",
      "Test loss after mini-batch  1001: 122.333\n",
      "Test loss after mini-batch  2001: 131.530\n",
      "Test loss after mini-batch  3001: 64.492\n",
      "Test loss after mini-batch  4001: 115.610\n",
      "Test loss after mini-batch  5001: 101.831\n",
      "Test loss after mini-batch  6001: 136.603\n",
      "Test loss after mini-batch  7001: 84.533\n",
      "Test loss after mini-batch  8001: 96.861\n",
      "Test loss after mini-batch  9001: 77.062\n",
      "Test loss after mini-batch 10001: 102.438\n",
      "Test loss after mini-batch 11001: 98.807\n",
      "Test loss after mini-batch 12001: 134.943\n",
      "Test loss after mini-batch 13001: 152.204\n",
      "Starting epoch 5\n",
      "Loss after mini-batch     1: 0.063\n",
      "Loss after mini-batch  1001: 60.612\n",
      "Loss after mini-batch  2001: 43.916\n",
      "Loss after mini-batch  3001: 37.899\n",
      "Loss after mini-batch  4001: 69.807\n",
      "Loss after mini-batch  5001: 48.674\n",
      "Loss after mini-batch  6001: 43.942\n",
      "Loss after mini-batch  7001: 46.107\n",
      "Loss after mini-batch  8001: 48.070\n",
      "Loss after mini-batch  9001: 49.744\n",
      "Loss after mini-batch 10001: 44.171\n",
      "Loss after mini-batch 11001: 45.087\n",
      "Loss after mini-batch 12001: 69.970\n",
      "Loss after mini-batch 13001: 83.329\n",
      "Loss after mini-batch 14001: 123.782\n",
      "Loss after mini-batch 15001: 52.020\n",
      "Loss after mini-batch 16001: 46.966\n",
      "Loss after mini-batch 17001: 73.061\n",
      "Loss after mini-batch 18001: 64.479\n",
      "Loss after mini-batch 19001: 88.230\n",
      "Loss after mini-batch 20001: 95.625\n",
      "Test loss after mini-batch     1: 0.005\n",
      "Test loss after mini-batch  1001: 122.333\n",
      "Test loss after mini-batch  2001: 131.530\n",
      "Test loss after mini-batch  3001: 64.492\n",
      "Test loss after mini-batch  4001: 115.610\n",
      "Test loss after mini-batch  5001: 101.831\n",
      "Test loss after mini-batch  6001: 136.603\n",
      "Test loss after mini-batch  7001: 84.533\n",
      "Test loss after mini-batch  8001: 96.861\n",
      "Test loss after mini-batch  9001: 77.062\n",
      "Test loss after mini-batch 10001: 102.438\n",
      "Test loss after mini-batch 11001: 98.807\n",
      "Test loss after mini-batch 12001: 134.943\n",
      "Test loss after mini-batch 13001: 152.204\n",
      "Training process has finished.\n"
     ]
    }
   ],
   "source": [
    "# Run the training loop\n",
    "for epoch in range(0, 5): # 5 epochs at maximum\n",
    "  \n",
    "  # Print epoch\n",
    "  print(f'Starting epoch {epoch+1}')\n",
    "\n",
    "  # Set current loss value\n",
    "  current_loss = 0.0\n",
    "  test_loss = 0.0\n",
    "  \n",
    "  # Iterate over the DataLoader for training data\n",
    "  for i, data in enumerate(train_dataloader, 0):\n",
    "    \n",
    "    \"\"\" # Get and prepare inputs\n",
    "    inputs, targets = data\n",
    "    inputs, targets = inputs.float(), targets.float()\n",
    "    targets = targets.reshape((targets.shape[0], 1))\n",
    "    \n",
    "    # Zero the gradients\n",
    "    optimizer.zero_grad()\n",
    "    \n",
    "    # Perform forward pass\n",
    "    outputs = mlp(inputs)\n",
    "    \n",
    "    # Compute loss\n",
    "    loss = loss_function(outputs, targets)\n",
    "    \n",
    "    # Perform backward pass\n",
    "    loss.backward()\n",
    "    \n",
    "    # Perform optimization\n",
    "    optimizer.step() \"\"\"\n",
    "    \n",
    "    # Print statistics\n",
    "    current_loss += train(data)\n",
    "    if i % 1000 == 0:\n",
    "        print('Loss after mini-batch %5d: %.3f' %\n",
    "              (i + 1, current_loss / 500))\n",
    "        current_loss = 0.0\n",
    "  for i, data in enumerate(test_dataloader, 0):\n",
    "    # Print statistics\n",
    "    test_loss += test(data)\n",
    "    if i % 1000 == 0:\n",
    "        print('Test loss after mini-batch %5d: %.3f' %\n",
    "              (i + 1, test_loss / 500))\n",
    "        test_loss = 0.0\n",
    "        \n",
    "# Process is complete.\n",
    "print('Training process has finished.')"
   ]
  },
  {
   "cell_type": "code",
   "execution_count": 151,
   "metadata": {},
   "outputs": [],
   "source": [
    "def test(dataloader, model, loss_fn):\n",
    "    size = len(dataloader.dataset)\n",
    "    num_batches = len(dataloader)\n",
    "    model.eval()\n",
    "    test_loss, correct = 0, 0\n",
    "    with torch.no_grad():\n",
    "        for X, y in dataloader:\n",
    "            #X, y = X.to(device), y.to(device)\n",
    "            pred = model(X)\n",
    "            test_loss += loss_fn(pred, y).item()\n",
    "            correct += (pred.argmax(1) == y).type(torch.float).sum().item()\n",
    "    test_loss /= num_batches\n",
    "    correct /= size\n",
    "    print(f\"Test Error: \\n Accuracy: {(100*correct):>0.1f}%, Avg loss: {test_loss:>8f} \\n\")"
   ]
  },
  {
   "cell_type": "code",
   "execution_count": 158,
   "metadata": {},
   "outputs": [
    {
     "data": {
      "text/plain": [
       "MLP(\n",
       "  (layers): Sequential(\n",
       "    (0): Linear(in_features=15, out_features=64, bias=True)\n",
       "    (1): ReLU()\n",
       "    (2): Linear(in_features=64, out_features=32, bias=True)\n",
       "    (3): ReLU()\n",
       "    (4): Linear(in_features=32, out_features=1, bias=True)\n",
       "  )\n",
       ")"
      ]
     },
     "execution_count": 158,
     "metadata": {},
     "output_type": "execute_result"
    }
   ],
   "source": [
    "mlp.eval()"
   ]
  },
  {
   "cell_type": "code",
   "execution_count": 161,
   "metadata": {},
   "outputs": [
    {
     "ename": "TypeError",
     "evalue": "linear(): argument 'input' (position 1) must be Tensor, not function",
     "output_type": "error",
     "traceback": [
      "\u001b[1;31m---------------------------------------------------------------------------\u001b[0m",
      "\u001b[1;31mTypeError\u001b[0m                                 Traceback (most recent call last)",
      "\u001b[1;32mc:\\Master\\Machine-learning-and-sensor-technology\\Assignment 3\\Assignment 3.ipynb Cell 34\u001b[0m in \u001b[0;36m<cell line: 1>\u001b[1;34m()\u001b[0m\n\u001b[1;32m----> <a href='vscode-notebook-cell:/c%3A/Master/Machine-learning-and-sensor-technology/Assignment%203/Assignment%203.ipynb#Y103sZmlsZQ%3D%3D?line=0'>1</a>\u001b[0m mlp(test)\n",
      "File \u001b[1;32m~\\AppData\\Local\\Packages\\PythonSoftwareFoundation.Python.3.10_qbz5n2kfra8p0\\LocalCache\\local-packages\\Python310\\site-packages\\torch\\nn\\modules\\module.py:1190\u001b[0m, in \u001b[0;36mModule._call_impl\u001b[1;34m(self, *input, **kwargs)\u001b[0m\n\u001b[0;32m   1186\u001b[0m \u001b[39m# If we don't have any hooks, we want to skip the rest of the logic in\u001b[39;00m\n\u001b[0;32m   1187\u001b[0m \u001b[39m# this function, and just call forward.\u001b[39;00m\n\u001b[0;32m   1188\u001b[0m \u001b[39mif\u001b[39;00m \u001b[39mnot\u001b[39;00m (\u001b[39mself\u001b[39m\u001b[39m.\u001b[39m_backward_hooks \u001b[39mor\u001b[39;00m \u001b[39mself\u001b[39m\u001b[39m.\u001b[39m_forward_hooks \u001b[39mor\u001b[39;00m \u001b[39mself\u001b[39m\u001b[39m.\u001b[39m_forward_pre_hooks \u001b[39mor\u001b[39;00m _global_backward_hooks\n\u001b[0;32m   1189\u001b[0m         \u001b[39mor\u001b[39;00m _global_forward_hooks \u001b[39mor\u001b[39;00m _global_forward_pre_hooks):\n\u001b[1;32m-> 1190\u001b[0m     \u001b[39mreturn\u001b[39;00m forward_call(\u001b[39m*\u001b[39m\u001b[39minput\u001b[39m, \u001b[39m*\u001b[39m\u001b[39m*\u001b[39mkwargs)\n\u001b[0;32m   1191\u001b[0m \u001b[39m# Do not call functions when jit is used\u001b[39;00m\n\u001b[0;32m   1192\u001b[0m full_backward_hooks, non_full_backward_hooks \u001b[39m=\u001b[39m [], []\n",
      "\u001b[1;32mc:\\Master\\Machine-learning-and-sensor-technology\\Assignment 3\\Assignment 3.ipynb Cell 34\u001b[0m in \u001b[0;36mMLP.forward\u001b[1;34m(self, x)\u001b[0m\n\u001b[0;32m     <a href='vscode-notebook-cell:/c%3A/Master/Machine-learning-and-sensor-technology/Assignment%203/Assignment%203.ipynb#Y103sZmlsZQ%3D%3D?line=16'>17</a>\u001b[0m \u001b[39mdef\u001b[39;00m \u001b[39mforward\u001b[39m(\u001b[39mself\u001b[39m, x):\n\u001b[0;32m     <a href='vscode-notebook-cell:/c%3A/Master/Machine-learning-and-sensor-technology/Assignment%203/Assignment%203.ipynb#Y103sZmlsZQ%3D%3D?line=17'>18</a>\u001b[0m   \u001b[39m'''\u001b[39;00m\n\u001b[0;32m     <a href='vscode-notebook-cell:/c%3A/Master/Machine-learning-and-sensor-technology/Assignment%203/Assignment%203.ipynb#Y103sZmlsZQ%3D%3D?line=18'>19</a>\u001b[0m \u001b[39m    Forward pass\u001b[39;00m\n\u001b[0;32m     <a href='vscode-notebook-cell:/c%3A/Master/Machine-learning-and-sensor-technology/Assignment%203/Assignment%203.ipynb#Y103sZmlsZQ%3D%3D?line=19'>20</a>\u001b[0m \u001b[39m  '''\u001b[39;00m\n\u001b[1;32m---> <a href='vscode-notebook-cell:/c%3A/Master/Machine-learning-and-sensor-technology/Assignment%203/Assignment%203.ipynb#Y103sZmlsZQ%3D%3D?line=20'>21</a>\u001b[0m   \u001b[39mreturn\u001b[39;00m \u001b[39mself\u001b[39;49m\u001b[39m.\u001b[39;49mlayers(x)\n",
      "File \u001b[1;32m~\\AppData\\Local\\Packages\\PythonSoftwareFoundation.Python.3.10_qbz5n2kfra8p0\\LocalCache\\local-packages\\Python310\\site-packages\\torch\\nn\\modules\\module.py:1190\u001b[0m, in \u001b[0;36mModule._call_impl\u001b[1;34m(self, *input, **kwargs)\u001b[0m\n\u001b[0;32m   1186\u001b[0m \u001b[39m# If we don't have any hooks, we want to skip the rest of the logic in\u001b[39;00m\n\u001b[0;32m   1187\u001b[0m \u001b[39m# this function, and just call forward.\u001b[39;00m\n\u001b[0;32m   1188\u001b[0m \u001b[39mif\u001b[39;00m \u001b[39mnot\u001b[39;00m (\u001b[39mself\u001b[39m\u001b[39m.\u001b[39m_backward_hooks \u001b[39mor\u001b[39;00m \u001b[39mself\u001b[39m\u001b[39m.\u001b[39m_forward_hooks \u001b[39mor\u001b[39;00m \u001b[39mself\u001b[39m\u001b[39m.\u001b[39m_forward_pre_hooks \u001b[39mor\u001b[39;00m _global_backward_hooks\n\u001b[0;32m   1189\u001b[0m         \u001b[39mor\u001b[39;00m _global_forward_hooks \u001b[39mor\u001b[39;00m _global_forward_pre_hooks):\n\u001b[1;32m-> 1190\u001b[0m     \u001b[39mreturn\u001b[39;00m forward_call(\u001b[39m*\u001b[39m\u001b[39minput\u001b[39m, \u001b[39m*\u001b[39m\u001b[39m*\u001b[39mkwargs)\n\u001b[0;32m   1191\u001b[0m \u001b[39m# Do not call functions when jit is used\u001b[39;00m\n\u001b[0;32m   1192\u001b[0m full_backward_hooks, non_full_backward_hooks \u001b[39m=\u001b[39m [], []\n",
      "File \u001b[1;32m~\\AppData\\Local\\Packages\\PythonSoftwareFoundation.Python.3.10_qbz5n2kfra8p0\\LocalCache\\local-packages\\Python310\\site-packages\\torch\\nn\\modules\\container.py:204\u001b[0m, in \u001b[0;36mSequential.forward\u001b[1;34m(self, input)\u001b[0m\n\u001b[0;32m    202\u001b[0m \u001b[39mdef\u001b[39;00m \u001b[39mforward\u001b[39m(\u001b[39mself\u001b[39m, \u001b[39minput\u001b[39m):\n\u001b[0;32m    203\u001b[0m     \u001b[39mfor\u001b[39;00m module \u001b[39min\u001b[39;00m \u001b[39mself\u001b[39m:\n\u001b[1;32m--> 204\u001b[0m         \u001b[39minput\u001b[39m \u001b[39m=\u001b[39m module(\u001b[39minput\u001b[39;49m)\n\u001b[0;32m    205\u001b[0m     \u001b[39mreturn\u001b[39;00m \u001b[39minput\u001b[39m\n",
      "File \u001b[1;32m~\\AppData\\Local\\Packages\\PythonSoftwareFoundation.Python.3.10_qbz5n2kfra8p0\\LocalCache\\local-packages\\Python310\\site-packages\\torch\\nn\\modules\\module.py:1190\u001b[0m, in \u001b[0;36mModule._call_impl\u001b[1;34m(self, *input, **kwargs)\u001b[0m\n\u001b[0;32m   1186\u001b[0m \u001b[39m# If we don't have any hooks, we want to skip the rest of the logic in\u001b[39;00m\n\u001b[0;32m   1187\u001b[0m \u001b[39m# this function, and just call forward.\u001b[39;00m\n\u001b[0;32m   1188\u001b[0m \u001b[39mif\u001b[39;00m \u001b[39mnot\u001b[39;00m (\u001b[39mself\u001b[39m\u001b[39m.\u001b[39m_backward_hooks \u001b[39mor\u001b[39;00m \u001b[39mself\u001b[39m\u001b[39m.\u001b[39m_forward_hooks \u001b[39mor\u001b[39;00m \u001b[39mself\u001b[39m\u001b[39m.\u001b[39m_forward_pre_hooks \u001b[39mor\u001b[39;00m _global_backward_hooks\n\u001b[0;32m   1189\u001b[0m         \u001b[39mor\u001b[39;00m _global_forward_hooks \u001b[39mor\u001b[39;00m _global_forward_pre_hooks):\n\u001b[1;32m-> 1190\u001b[0m     \u001b[39mreturn\u001b[39;00m forward_call(\u001b[39m*\u001b[39m\u001b[39minput\u001b[39m, \u001b[39m*\u001b[39m\u001b[39m*\u001b[39mkwargs)\n\u001b[0;32m   1191\u001b[0m \u001b[39m# Do not call functions when jit is used\u001b[39;00m\n\u001b[0;32m   1192\u001b[0m full_backward_hooks, non_full_backward_hooks \u001b[39m=\u001b[39m [], []\n",
      "File \u001b[1;32m~\\AppData\\Local\\Packages\\PythonSoftwareFoundation.Python.3.10_qbz5n2kfra8p0\\LocalCache\\local-packages\\Python310\\site-packages\\torch\\nn\\modules\\linear.py:114\u001b[0m, in \u001b[0;36mLinear.forward\u001b[1;34m(self, input)\u001b[0m\n\u001b[0;32m    113\u001b[0m \u001b[39mdef\u001b[39;00m \u001b[39mforward\u001b[39m(\u001b[39mself\u001b[39m, \u001b[39minput\u001b[39m: Tensor) \u001b[39m-\u001b[39m\u001b[39m>\u001b[39m Tensor:\n\u001b[1;32m--> 114\u001b[0m     \u001b[39mreturn\u001b[39;00m F\u001b[39m.\u001b[39;49mlinear(\u001b[39minput\u001b[39;49m, \u001b[39mself\u001b[39;49m\u001b[39m.\u001b[39;49mweight, \u001b[39mself\u001b[39;49m\u001b[39m.\u001b[39;49mbias)\n",
      "\u001b[1;31mTypeError\u001b[0m: linear(): argument 'input' (position 1) must be Tensor, not function"
     ]
    }
   ],
   "source": [
    "mlp(test)"
   ]
  },
  {
   "cell_type": "code",
   "execution_count": 150,
   "metadata": {},
   "outputs": [
    {
     "name": "stdout",
     "output_type": "stream",
     "text": [
      "Saved PyTorch Model State to mlp_model_torch.pth\n"
     ]
    }
   ],
   "source": [
    "mlp.eval()\n",
    "torch.save(mlp.state_dict(), \"mlp_model_torch.pth\")\n",
    "print(\"Saved PyTorch Model State to mlp_model_torch.pth\")"
   ]
  },
  {
   "cell_type": "markdown",
   "metadata": {},
   "source": [
    "Lets try RNN with Torch"
   ]
  },
  {
   "cell_type": "code",
   "execution_count": 142,
   "metadata": {},
   "outputs": [
    {
     "name": "stdout",
     "output_type": "stream",
     "text": [
      "Using cpu device\n",
      "NeuralNetwork(\n",
      "  (flatten): Flatten(start_dim=1, end_dim=-1)\n",
      "  (linear_relu_stack): Sequential(\n",
      "    (0): Linear(in_features=15, out_features=50, bias=True)\n",
      "    (1): ReLU()\n",
      "    (2): Linear(in_features=50, out_features=50, bias=True)\n",
      "    (3): ReLU()\n",
      "    (4): Linear(in_features=50, out_features=1, bias=True)\n",
      "  )\n",
      ")\n"
     ]
    }
   ],
   "source": [
    "# Get cpu or gpu device for training.\n",
    "device = \"cuda\" if torch.cuda.is_available() else \"cpu\"\n",
    "print(f\"Using {device} device\")\n",
    "\n",
    "# Define model\n",
    "class NeuralNetwork(nn.Module):\n",
    "    def __init__(self):\n",
    "        super().__init__()\n",
    "        self.flatten = nn.Flatten()\n",
    "        self.linear_relu_stack = nn.Sequential(\n",
    "            nn.Linear(15, 50),\n",
    "            nn.ReLU(),\n",
    "            nn.Linear(50, 50),\n",
    "            nn.ReLU(),\n",
    "            nn.Linear(50, 1)\n",
    "        )\n",
    "\n",
    "    def forward(self, x):\n",
    "        x = self.flatten(x)\n",
    "        logits = self.linear_relu_stack(x)\n",
    "        return logits\n",
    "\n",
    "model = NeuralNetwork().to(device)\n",
    "print(model)"
   ]
  },
  {
   "cell_type": "code",
   "execution_count": 143,
   "metadata": {},
   "outputs": [],
   "source": [
    "loss_fn = nn.CrossEntropyLoss()\n",
    "optimizer = torch.optim.SGD(model.parameters(), lr=1e-3)"
   ]
  },
  {
   "cell_type": "code",
   "execution_count": 144,
   "metadata": {},
   "outputs": [],
   "source": [
    "def train(dataloader, model, loss_fn, optimizer):\n",
    "    size = len(dataloader.dataset)\n",
    "    model.train()\n",
    "    for batch, (X, y) in enumerate(dataloader):\n",
    "        X, y = X, y\n",
    "\n",
    "        # Compute prediction error\n",
    "        pred = model(X)\n",
    "        loss = loss_fn(pred, y)\n",
    "\n",
    "        # Backpropagation\n",
    "        optimizer.zero_grad()\n",
    "        loss.backward()\n",
    "        optimizer.step()\n",
    "\n",
    "        if batch % 100 == 0:\n",
    "            loss, current = loss.item(), batch * len(X)\n",
    "            print(f\"loss: {loss:>7f}  [{current:>5d}/{size:>5d}]\")"
   ]
  },
  {
   "cell_type": "code",
   "execution_count": 145,
   "metadata": {},
   "outputs": [],
   "source": [
    "def test(dataloader, model, loss_fn):\n",
    "    size = len(dataloader.dataset)\n",
    "    num_batches = len(dataloader)\n",
    "    model.eval()\n",
    "    test_loss, correct = 0, 0\n",
    "    with torch.no_grad():\n",
    "        for X, y in dataloader:\n",
    "            #X, y = X.to(device), y.to(device)\n",
    "            pred = model(X)\n",
    "            test_loss += loss_fn(pred, y).item()\n",
    "            correct += (pred.argmax(1) == y).type(torch.float).sum().item()\n",
    "    test_loss /= num_batches\n",
    "    correct /= size\n",
    "    print(f\"Test Error: \\n Accuracy: {(100*correct):>0.1f}%, Avg loss: {test_loss:>8f} \\n\")"
   ]
  },
  {
   "cell_type": "code",
   "execution_count": 146,
   "metadata": {},
   "outputs": [
    {
     "name": "stdout",
     "output_type": "stream",
     "text": [
      "Epoch 1\n",
      "-------------------------------\n"
     ]
    },
    {
     "ename": "RuntimeError",
     "evalue": "mat1 and mat2 must have the same dtype",
     "output_type": "error",
     "traceback": [
      "\u001b[1;31m---------------------------------------------------------------------------\u001b[0m",
      "\u001b[1;31mRuntimeError\u001b[0m                              Traceback (most recent call last)",
      "\u001b[1;32mc:\\Master\\Machine-learning-and-sensor-technology\\Assignment 3\\Assignment 3.ipynb Cell 37\u001b[0m in \u001b[0;36m<cell line: 2>\u001b[1;34m()\u001b[0m\n\u001b[0;32m      <a href='vscode-notebook-cell:/c%3A/Master/Machine-learning-and-sensor-technology/Assignment%203/Assignment%203.ipynb#X41sZmlsZQ%3D%3D?line=1'>2</a>\u001b[0m \u001b[39mfor\u001b[39;00m t \u001b[39min\u001b[39;00m \u001b[39mrange\u001b[39m(epochs):\n\u001b[0;32m      <a href='vscode-notebook-cell:/c%3A/Master/Machine-learning-and-sensor-technology/Assignment%203/Assignment%203.ipynb#X41sZmlsZQ%3D%3D?line=2'>3</a>\u001b[0m     \u001b[39mprint\u001b[39m(\u001b[39mf\u001b[39m\u001b[39m\"\u001b[39m\u001b[39mEpoch \u001b[39m\u001b[39m{\u001b[39;00mt\u001b[39m+\u001b[39m\u001b[39m1\u001b[39m\u001b[39m}\u001b[39;00m\u001b[39m\\n\u001b[39;00m\u001b[39m-------------------------------\u001b[39m\u001b[39m\"\u001b[39m)\n\u001b[1;32m----> <a href='vscode-notebook-cell:/c%3A/Master/Machine-learning-and-sensor-technology/Assignment%203/Assignment%203.ipynb#X41sZmlsZQ%3D%3D?line=3'>4</a>\u001b[0m     train(train_dataloader, model, loss_fn, optimizer)\n\u001b[0;32m      <a href='vscode-notebook-cell:/c%3A/Master/Machine-learning-and-sensor-technology/Assignment%203/Assignment%203.ipynb#X41sZmlsZQ%3D%3D?line=4'>5</a>\u001b[0m     test(test_dataloader, model, loss_fn)\n\u001b[0;32m      <a href='vscode-notebook-cell:/c%3A/Master/Machine-learning-and-sensor-technology/Assignment%203/Assignment%203.ipynb#X41sZmlsZQ%3D%3D?line=5'>6</a>\u001b[0m \u001b[39mprint\u001b[39m(\u001b[39m\"\u001b[39m\u001b[39mDone!\u001b[39m\u001b[39m\"\u001b[39m)\n",
      "\u001b[1;32mc:\\Master\\Machine-learning-and-sensor-technology\\Assignment 3\\Assignment 3.ipynb Cell 37\u001b[0m in \u001b[0;36mtrain\u001b[1;34m(dataloader, model, loss_fn, optimizer)\u001b[0m\n\u001b[0;32m      <a href='vscode-notebook-cell:/c%3A/Master/Machine-learning-and-sensor-technology/Assignment%203/Assignment%203.ipynb#X41sZmlsZQ%3D%3D?line=4'>5</a>\u001b[0m X, y \u001b[39m=\u001b[39m X, y\n\u001b[0;32m      <a href='vscode-notebook-cell:/c%3A/Master/Machine-learning-and-sensor-technology/Assignment%203/Assignment%203.ipynb#X41sZmlsZQ%3D%3D?line=6'>7</a>\u001b[0m \u001b[39m# Compute prediction error\u001b[39;00m\n\u001b[1;32m----> <a href='vscode-notebook-cell:/c%3A/Master/Machine-learning-and-sensor-technology/Assignment%203/Assignment%203.ipynb#X41sZmlsZQ%3D%3D?line=7'>8</a>\u001b[0m pred \u001b[39m=\u001b[39m model(X)\n\u001b[0;32m      <a href='vscode-notebook-cell:/c%3A/Master/Machine-learning-and-sensor-technology/Assignment%203/Assignment%203.ipynb#X41sZmlsZQ%3D%3D?line=8'>9</a>\u001b[0m loss \u001b[39m=\u001b[39m loss_fn(pred, y)\n\u001b[0;32m     <a href='vscode-notebook-cell:/c%3A/Master/Machine-learning-and-sensor-technology/Assignment%203/Assignment%203.ipynb#X41sZmlsZQ%3D%3D?line=10'>11</a>\u001b[0m \u001b[39m# Backpropagation\u001b[39;00m\n",
      "File \u001b[1;32m~\\AppData\\Local\\Packages\\PythonSoftwareFoundation.Python.3.10_qbz5n2kfra8p0\\LocalCache\\local-packages\\Python310\\site-packages\\torch\\nn\\modules\\module.py:1190\u001b[0m, in \u001b[0;36mModule._call_impl\u001b[1;34m(self, *input, **kwargs)\u001b[0m\n\u001b[0;32m   1186\u001b[0m \u001b[39m# If we don't have any hooks, we want to skip the rest of the logic in\u001b[39;00m\n\u001b[0;32m   1187\u001b[0m \u001b[39m# this function, and just call forward.\u001b[39;00m\n\u001b[0;32m   1188\u001b[0m \u001b[39mif\u001b[39;00m \u001b[39mnot\u001b[39;00m (\u001b[39mself\u001b[39m\u001b[39m.\u001b[39m_backward_hooks \u001b[39mor\u001b[39;00m \u001b[39mself\u001b[39m\u001b[39m.\u001b[39m_forward_hooks \u001b[39mor\u001b[39;00m \u001b[39mself\u001b[39m\u001b[39m.\u001b[39m_forward_pre_hooks \u001b[39mor\u001b[39;00m _global_backward_hooks\n\u001b[0;32m   1189\u001b[0m         \u001b[39mor\u001b[39;00m _global_forward_hooks \u001b[39mor\u001b[39;00m _global_forward_pre_hooks):\n\u001b[1;32m-> 1190\u001b[0m     \u001b[39mreturn\u001b[39;00m forward_call(\u001b[39m*\u001b[39m\u001b[39minput\u001b[39m, \u001b[39m*\u001b[39m\u001b[39m*\u001b[39mkwargs)\n\u001b[0;32m   1191\u001b[0m \u001b[39m# Do not call functions when jit is used\u001b[39;00m\n\u001b[0;32m   1192\u001b[0m full_backward_hooks, non_full_backward_hooks \u001b[39m=\u001b[39m [], []\n",
      "\u001b[1;32mc:\\Master\\Machine-learning-and-sensor-technology\\Assignment 3\\Assignment 3.ipynb Cell 37\u001b[0m in \u001b[0;36mNeuralNetwork.forward\u001b[1;34m(self, x)\u001b[0m\n\u001b[0;32m     <a href='vscode-notebook-cell:/c%3A/Master/Machine-learning-and-sensor-technology/Assignment%203/Assignment%203.ipynb#X41sZmlsZQ%3D%3D?line=17'>18</a>\u001b[0m \u001b[39mdef\u001b[39;00m \u001b[39mforward\u001b[39m(\u001b[39mself\u001b[39m, x):\n\u001b[0;32m     <a href='vscode-notebook-cell:/c%3A/Master/Machine-learning-and-sensor-technology/Assignment%203/Assignment%203.ipynb#X41sZmlsZQ%3D%3D?line=18'>19</a>\u001b[0m     x \u001b[39m=\u001b[39m \u001b[39mself\u001b[39m\u001b[39m.\u001b[39mflatten(x)\n\u001b[1;32m---> <a href='vscode-notebook-cell:/c%3A/Master/Machine-learning-and-sensor-technology/Assignment%203/Assignment%203.ipynb#X41sZmlsZQ%3D%3D?line=19'>20</a>\u001b[0m     logits \u001b[39m=\u001b[39m \u001b[39mself\u001b[39;49m\u001b[39m.\u001b[39;49mlinear_relu_stack(x)\n\u001b[0;32m     <a href='vscode-notebook-cell:/c%3A/Master/Machine-learning-and-sensor-technology/Assignment%203/Assignment%203.ipynb#X41sZmlsZQ%3D%3D?line=20'>21</a>\u001b[0m     \u001b[39mreturn\u001b[39;00m logits\n",
      "File \u001b[1;32m~\\AppData\\Local\\Packages\\PythonSoftwareFoundation.Python.3.10_qbz5n2kfra8p0\\LocalCache\\local-packages\\Python310\\site-packages\\torch\\nn\\modules\\module.py:1190\u001b[0m, in \u001b[0;36mModule._call_impl\u001b[1;34m(self, *input, **kwargs)\u001b[0m\n\u001b[0;32m   1186\u001b[0m \u001b[39m# If we don't have any hooks, we want to skip the rest of the logic in\u001b[39;00m\n\u001b[0;32m   1187\u001b[0m \u001b[39m# this function, and just call forward.\u001b[39;00m\n\u001b[0;32m   1188\u001b[0m \u001b[39mif\u001b[39;00m \u001b[39mnot\u001b[39;00m (\u001b[39mself\u001b[39m\u001b[39m.\u001b[39m_backward_hooks \u001b[39mor\u001b[39;00m \u001b[39mself\u001b[39m\u001b[39m.\u001b[39m_forward_hooks \u001b[39mor\u001b[39;00m \u001b[39mself\u001b[39m\u001b[39m.\u001b[39m_forward_pre_hooks \u001b[39mor\u001b[39;00m _global_backward_hooks\n\u001b[0;32m   1189\u001b[0m         \u001b[39mor\u001b[39;00m _global_forward_hooks \u001b[39mor\u001b[39;00m _global_forward_pre_hooks):\n\u001b[1;32m-> 1190\u001b[0m     \u001b[39mreturn\u001b[39;00m forward_call(\u001b[39m*\u001b[39m\u001b[39minput\u001b[39m, \u001b[39m*\u001b[39m\u001b[39m*\u001b[39mkwargs)\n\u001b[0;32m   1191\u001b[0m \u001b[39m# Do not call functions when jit is used\u001b[39;00m\n\u001b[0;32m   1192\u001b[0m full_backward_hooks, non_full_backward_hooks \u001b[39m=\u001b[39m [], []\n",
      "File \u001b[1;32m~\\AppData\\Local\\Packages\\PythonSoftwareFoundation.Python.3.10_qbz5n2kfra8p0\\LocalCache\\local-packages\\Python310\\site-packages\\torch\\nn\\modules\\container.py:204\u001b[0m, in \u001b[0;36mSequential.forward\u001b[1;34m(self, input)\u001b[0m\n\u001b[0;32m    202\u001b[0m \u001b[39mdef\u001b[39;00m \u001b[39mforward\u001b[39m(\u001b[39mself\u001b[39m, \u001b[39minput\u001b[39m):\n\u001b[0;32m    203\u001b[0m     \u001b[39mfor\u001b[39;00m module \u001b[39min\u001b[39;00m \u001b[39mself\u001b[39m:\n\u001b[1;32m--> 204\u001b[0m         \u001b[39minput\u001b[39m \u001b[39m=\u001b[39m module(\u001b[39minput\u001b[39;49m)\n\u001b[0;32m    205\u001b[0m     \u001b[39mreturn\u001b[39;00m \u001b[39minput\u001b[39m\n",
      "File \u001b[1;32m~\\AppData\\Local\\Packages\\PythonSoftwareFoundation.Python.3.10_qbz5n2kfra8p0\\LocalCache\\local-packages\\Python310\\site-packages\\torch\\nn\\modules\\module.py:1190\u001b[0m, in \u001b[0;36mModule._call_impl\u001b[1;34m(self, *input, **kwargs)\u001b[0m\n\u001b[0;32m   1186\u001b[0m \u001b[39m# If we don't have any hooks, we want to skip the rest of the logic in\u001b[39;00m\n\u001b[0;32m   1187\u001b[0m \u001b[39m# this function, and just call forward.\u001b[39;00m\n\u001b[0;32m   1188\u001b[0m \u001b[39mif\u001b[39;00m \u001b[39mnot\u001b[39;00m (\u001b[39mself\u001b[39m\u001b[39m.\u001b[39m_backward_hooks \u001b[39mor\u001b[39;00m \u001b[39mself\u001b[39m\u001b[39m.\u001b[39m_forward_hooks \u001b[39mor\u001b[39;00m \u001b[39mself\u001b[39m\u001b[39m.\u001b[39m_forward_pre_hooks \u001b[39mor\u001b[39;00m _global_backward_hooks\n\u001b[0;32m   1189\u001b[0m         \u001b[39mor\u001b[39;00m _global_forward_hooks \u001b[39mor\u001b[39;00m _global_forward_pre_hooks):\n\u001b[1;32m-> 1190\u001b[0m     \u001b[39mreturn\u001b[39;00m forward_call(\u001b[39m*\u001b[39m\u001b[39minput\u001b[39m, \u001b[39m*\u001b[39m\u001b[39m*\u001b[39mkwargs)\n\u001b[0;32m   1191\u001b[0m \u001b[39m# Do not call functions when jit is used\u001b[39;00m\n\u001b[0;32m   1192\u001b[0m full_backward_hooks, non_full_backward_hooks \u001b[39m=\u001b[39m [], []\n",
      "File \u001b[1;32m~\\AppData\\Local\\Packages\\PythonSoftwareFoundation.Python.3.10_qbz5n2kfra8p0\\LocalCache\\local-packages\\Python310\\site-packages\\torch\\nn\\modules\\linear.py:114\u001b[0m, in \u001b[0;36mLinear.forward\u001b[1;34m(self, input)\u001b[0m\n\u001b[0;32m    113\u001b[0m \u001b[39mdef\u001b[39;00m \u001b[39mforward\u001b[39m(\u001b[39mself\u001b[39m, \u001b[39minput\u001b[39m: Tensor) \u001b[39m-\u001b[39m\u001b[39m>\u001b[39m Tensor:\n\u001b[1;32m--> 114\u001b[0m     \u001b[39mreturn\u001b[39;00m F\u001b[39m.\u001b[39;49mlinear(\u001b[39minput\u001b[39;49m, \u001b[39mself\u001b[39;49m\u001b[39m.\u001b[39;49mweight, \u001b[39mself\u001b[39;49m\u001b[39m.\u001b[39;49mbias)\n",
      "\u001b[1;31mRuntimeError\u001b[0m: mat1 and mat2 must have the same dtype"
     ]
    }
   ],
   "source": [
    "epochs = 5\n",
    "for t in range(epochs):\n",
    "    print(f\"Epoch {t+1}\\n-------------------------------\")\n",
    "    train(train_dataloader, model, loss_fn, optimizer)\n",
    "    test(test_dataloader, model, loss_fn)\n",
    "print(\"Done!\")"
   ]
  },
  {
   "cell_type": "code",
   "execution_count": 51,
   "metadata": {},
   "outputs": [
    {
     "data": {
      "image/png": "[encoded data removed]",
      "text/plain": [
       "<Figure size 640x480 with 1 Axes>"
      ]
     },
     "metadata": {},
     "output_type": "display_data"
    }
   ],
   "source": [
    "# Visualize our data\n",
    "import matplotlib.pyplot as plt\n",
    "import numpy as np\n",
    "\n",
    "x = np.random.rand(100)\n",
    "y = np.sin(x) * np.power(x,3) + 3*x + np.random.rand(100)*0.8\n",
    "\n",
    "plt.scatter(x, y)\n",
    "plt.show()"
   ]
  },
  {
   "cell_type": "code",
   "execution_count": 52,
   "metadata": {},
   "outputs": [
    {
     "name": "stdout",
     "output_type": "stream",
     "text": [
      "[0.70368832 0.20537755 0.34578633 0.00618444 0.54674924 0.10583509\n",
      " 0.81642895 0.53908583 0.05486176 0.78216681 0.12813997 0.46288816\n",
      " 0.11167669 0.65574317 0.78008015 0.41806401 0.91147067 0.84149513\n",
      " 0.85103715 0.11550736 0.57437397 0.9539109  0.70323876 0.38046883\n",
      " 0.50701823 0.93869334 0.28359412 0.50911558 0.81402274 0.56245373\n",
      " 0.79671655 0.01640915 0.35924399 0.95557992 0.66251308 0.75757289\n",
      " 0.26925195 0.24594452 0.53299768 0.51730169 0.36105009 0.74775881\n",
      " 0.79250962 0.54755019 0.59242947 0.38182256 0.54493402 0.12529279\n",
      " 0.90773917 0.93045576 0.73395483 0.91326743 0.70717395 0.45436712\n",
      " 0.9092302  0.39264724 0.84211439 0.94320655 0.91890966 0.62616743\n",
      " 0.186682   0.4876609  0.7827188  0.36827864 0.86295424 0.33335232\n",
      " 0.44212418 0.28517396 0.61619583 0.37994823 0.28305465 0.32147539\n",
      " 0.84954417 0.90517096 0.8929423  0.95200309 0.29540049 0.56905443\n",
      " 0.04168883 0.98419328 0.78968602 0.12326033 0.9903954  0.03810497\n",
      " 0.94231401 0.00655177 0.65714115 0.18602914 0.55884098 0.84805446\n",
      " 0.63987093 0.22703124 0.19304912 0.18032047 0.90770156 0.52501829\n",
      " 0.21959614 0.392993   0.35154829 0.57923396] [2.83297519 1.34603029 1.72093742 0.60778575 2.41339336 1.05716699\n",
      " 2.9299901  2.28417969 0.2962151  2.83386767 0.73618089 1.55033258\n",
      " 1.10172424 2.40479185 3.08818762 1.52855191 3.66249284 3.45499875\n",
      " 3.57384761 0.70547701 2.07897554 3.57093193 2.63035161 1.58212852\n",
      " 1.69508583 3.85170257 1.20786426 1.98762798 3.27827139 2.24573221\n",
      " 3.0466345  0.13503829 1.20204764 4.32399123 2.70925532 2.70420498\n",
      " 1.56339174 1.18712285 2.0750346  1.80563497 1.5559993  3.25921609\n",
      " 3.40728333 2.35701449 2.33713596 1.65315473 2.41351189 0.43261319\n",
      " 3.50515441 3.43913357 2.58312429 4.08001109 2.84433507 1.85376403\n",
      " 3.68257335 1.68730959 3.49466183 4.11594285 3.736961   2.41228814\n",
      " 1.08922198 1.9840009  2.69838547 1.17097814 3.57098843 1.57863563\n",
      " 2.01474164 1.66019348 2.42320765 1.5734973  1.57325433 1.63621485\n",
      " 3.09169946 3.95752598 3.55094987 3.82125803 1.37124645 2.34646881\n",
      " 0.27366766 4.27536748 3.23907268 1.00424941 4.19406869 0.90648322\n",
      " 3.87049657 0.81611691 2.22390951 0.74226038 1.99273203 3.48867704\n",
      " 2.65495984 0.79573386 0.94933291 1.1433637  4.09081695 1.87462765\n",
      " 1.18618193 1.20406456 1.5114051  2.3205095 ]\n"
     ]
    }
   ],
   "source": [
    "print(x, y)"
   ]
  },
  {
   "cell_type": "code",
   "execution_count": 49,
   "metadata": {},
   "outputs": [
    {
     "name": "stdout",
     "output_type": "stream",
     "text": [
      "tensor([[0.1860],\n",
      "        [0.6906],\n",
      "        [0.4548],\n",
      "        [0.6744],\n",
      "        [0.8927],\n",
      "        [0.1820],\n",
      "        [0.2191],\n",
      "        [0.3992],\n",
      "        [0.5337],\n",
      "        [0.7261],\n",
      "        [0.7891],\n",
      "        [0.4268],\n",
      "        [0.7827],\n",
      "        [0.9019],\n",
      "        [0.7478],\n",
      "        [0.3457],\n",
      "        [0.6754],\n",
      "        [0.6508],\n",
      "        [0.2762],\n",
      "        [0.4080],\n",
      "        [0.9263],\n",
      "        [0.4477],\n",
      "        [0.9933],\n",
      "        [0.5244],\n",
      "        [0.1542],\n",
      "        [0.6760],\n",
      "        [0.6813],\n",
      "        [0.1011],\n",
      "        [0.2423],\n",
      "        [0.9539],\n",
      "        [0.9680],\n",
      "        [0.7626],\n",
      "        [0.2917],\n",
      "        [0.2139],\n",
      "        [0.9316],\n",
      "        [0.2281],\n",
      "        [0.6971],\n",
      "        [0.3119],\n",
      "        [0.7892],\n",
      "        [0.5273],\n",
      "        [0.6609],\n",
      "        [0.6452],\n",
      "        [0.6797],\n",
      "        [0.1833],\n",
      "        [0.1401],\n",
      "        [0.6635],\n",
      "        [0.7804],\n",
      "        [0.2870],\n",
      "        [0.1118],\n",
      "        [0.4706],\n",
      "        [0.4329],\n",
      "        [0.1952],\n",
      "        [0.9398],\n",
      "        [0.6063],\n",
      "        [0.0655],\n",
      "        [0.1111],\n",
      "        [0.4538],\n",
      "        [0.7426],\n",
      "        [0.4541],\n",
      "        [0.2000],\n",
      "        [0.0805],\n",
      "        [0.1979],\n",
      "        [0.1436],\n",
      "        [0.3991],\n",
      "        [0.7698],\n",
      "        [0.1660],\n",
      "        [0.8312],\n",
      "        [0.9676],\n",
      "        [0.9716],\n",
      "        [0.8225],\n",
      "        [0.3459],\n",
      "        [0.8333],\n",
      "        [0.8829],\n",
      "        [0.3465],\n",
      "        [0.5105],\n",
      "        [0.3850],\n",
      "        [0.0262],\n",
      "        [0.4982],\n",
      "        [0.1320],\n",
      "        [0.2815],\n",
      "        [0.2083],\n",
      "        [0.2166],\n",
      "        [0.4372],\n",
      "        [0.8831],\n",
      "        [0.9724],\n",
      "        [0.1280],\n",
      "        [0.6292],\n",
      "        [0.8267],\n",
      "        [0.1218],\n",
      "        [0.3204],\n",
      "        [0.7008],\n",
      "        [0.6253],\n",
      "        [0.3127],\n",
      "        [0.7965],\n",
      "        [0.7885],\n",
      "        [0.6472],\n",
      "        [0.8247],\n",
      "        [0.2256],\n",
      "        [0.8195],\n",
      "        [0.4696]]) tensor([[0.7756],\n",
      "        [2.9271],\n",
      "        [2.0298],\n",
      "        [2.4700],\n",
      "        [3.9835],\n",
      "        [0.7056],\n",
      "        [1.3839],\n",
      "        [1.7813],\n",
      "        [1.7891],\n",
      "        [3.1435],\n",
      "        [3.2972],\n",
      "        [1.9267],\n",
      "        [2.7231],\n",
      "        [3.3774],\n",
      "        [2.9998],\n",
      "        [1.6423],\n",
      "        [2.5053],\n",
      "        [2.3659],\n",
      "        [0.9234],\n",
      "        [1.6582],\n",
      "        [4.1441],\n",
      "        [1.7449],\n",
      "        [4.4624],\n",
      "        [1.6520],\n",
      "        [0.8406],\n",
      "        [2.8207],\n",
      "        [2.9919],\n",
      "        [1.0997],\n",
      "        [1.4324],\n",
      "        [4.2023],\n",
      "        [3.9184],\n",
      "        [3.1410],\n",
      "        [1.4513],\n",
      "        [1.1447],\n",
      "        [3.6323],\n",
      "        [1.3761],\n",
      "        [2.7790],\n",
      "        [1.3387],\n",
      "        [2.7584],\n",
      "        [2.3821],\n",
      "        [2.7867],\n",
      "        [2.4354],\n",
      "        [2.6584],\n",
      "        [0.8376],\n",
      "        [0.4819],\n",
      "        [2.5517],\n",
      "        [2.8711],\n",
      "        [1.1041],\n",
      "        [0.5568],\n",
      "        [2.0387],\n",
      "        [1.9988],\n",
      "        [1.1721],\n",
      "        [3.8724],\n",
      "        [2.2774],\n",
      "        [0.3242],\n",
      "        [1.1235],\n",
      "        [1.4084],\n",
      "        [2.7223],\n",
      "        [2.0299],\n",
      "        [1.0464],\n",
      "        [0.4643],\n",
      "        [1.3650],\n",
      "        [0.9393],\n",
      "        [1.6815],\n",
      "        [2.7407],\n",
      "        [0.9053],\n",
      "        [3.1890],\n",
      "        [4.4389],\n",
      "        [3.7944],\n",
      "        [3.5615],\n",
      "        [1.3123],\n",
      "        [3.5134],\n",
      "        [3.7902],\n",
      "        [1.4842],\n",
      "        [1.6657],\n",
      "        [1.8996],\n",
      "        [0.8007],\n",
      "        [1.8686],\n",
      "        [0.5078],\n",
      "        [1.3971],\n",
      "        [1.1290],\n",
      "        [0.7409],\n",
      "        [2.0969],\n",
      "        [3.5397],\n",
      "        [4.4100],\n",
      "        [1.1230],\n",
      "        [2.7544],\n",
      "        [3.5036],\n",
      "        [0.6822],\n",
      "        [1.0952],\n",
      "        [3.0813],\n",
      "        [2.5683],\n",
      "        [1.3777],\n",
      "        [3.0922],\n",
      "        [3.0212],\n",
      "        [2.7650],\n",
      "        [3.6507],\n",
      "        [1.0836],\n",
      "        [3.2506],\n",
      "        [1.7409]])\n"
     ]
    }
   ],
   "source": [
    "# convert numpy array to tensor in shape of input size\n",
    "x = torch.from_numpy(x.reshape(-1,1)).float()\n",
    "y = torch.from_numpy(y.reshape(-1,1)).float()\n",
    "print(x, y)"
   ]
  },
  {
   "cell_type": "code",
   "execution_count": 50,
   "metadata": {},
   "outputs": [
    {
     "data": {
      "image/png": "[encoded data removed]",
      "text/plain": [
       "<Figure size 640x480 with 1 Axes>"
      ]
     },
     "metadata": {},
     "output_type": "display_data"
    }
   ],
   "source": [
    "plt.scatter(x, y)\n",
    "plt.show()"
   ]
  }
 ],
 "metadata": {
  "kernelspec": {
   "display_name": "Python 3.10.7 64-bit (microsoft store)",
   "language": "python",
   "name": "python3"
  },
  "language_info": {
   "codemirror_mode": {
    "name": "ipython",
    "version": 3
   },
   "file_extension": ".py",
   "mimetype": "text/x-python",
   "name": "python",
   "nbconvert_exporter": "python",
   "pygments_lexer": "ipython3",
   "version": "3.10.8"
  },
  "orig_nbformat": 4,
  "vscode": {
   "interpreter": {
    "hash": "3d95096211da4458030c5d20d7fc773d80967e0e0df0f24e7721081e9a522ec2"
   }
  }
 },
 "nbformat": 4,
 "nbformat_minor": 2
}
